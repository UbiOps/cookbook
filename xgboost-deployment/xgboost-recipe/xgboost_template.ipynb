{
 "cells": [
  {
   "cell_type": "markdown",
   "metadata": {},
   "source": [
    "# XGBoost template\n",
    "Note: This notebook runs on Python 3.6 and uses UbiOps CLient Library 3.2.0.\n",
    "\n",
    "In this notebook we will show you the following:\n",
    "\n",
    "How to create a deployment that uses a built xgboost model to make predictions on the prices of houses based on some criteria about the house.\n",
    "\n",
    "This example uses the House Sales in King County, USA Dataset. [Link to the dataset](https://www.kaggle.com/harlfoxem/housesalesprediction)\n",
    "\n",
    "\n",
    "If you run this entire notebook after filling in your access token, the xgboost deployment will be deployed to your UbiOps environment. You can thus check your environment after running to explore. You can also check the individual steps in this notebook to see what we did exactly and how you can adapt it to your own use case.\n",
    "\n",
    "We recommend to run the cells step by step, as some cells can take a few minutes to finish. You can run everything in one go as well and it will work, just allow a few minutes for building the individual deployments.\n"
   ]
  },
  {
   "cell_type": "markdown",
   "metadata": {},
   "source": [
    "## Establishing a connection with your UbiOps environment¶\n",
    "\n",
    "Add your API token and your project name. We provide a deployment name and deployment version name. Afterwards we initialize the client library. This way we can deploy the XGBoost model to your environment."
   ]
  },
  {
   "cell_type": "code",
   "execution_count": null,
   "metadata": {},
   "outputs": [],
   "source": [
    "API_TOKEN = \"<INSERT API_TOKEN WITH PROJECT EDITOR RIGHTS>\" # Make sure this is in the format \"Token token-code\"\n",
    "PROJECT_NAME = \"<INSERT PROJECT NAME IN YOUR ACCOUNT>\"\n",
    "\n",
    "DEPLOYMENT_NAME = 'xgboost-deployment'\n",
    "DEPLOYMENT_VERSION = 'v1'\n",
    "\n",
    "# Import all necessary libraries\n",
    "import shutil\n",
    "import os\n",
    "import ubiops\n",
    "\n",
    "client = ubiops.ApiClient(ubiops.Configuration(api_key={'Authorization': API_TOKEN}, \n",
    "                                               host='https://api.ubiops.com/v2.1'))\n",
    "api = ubiops.CoreApi(client)"
   ]
  },
  {
   "cell_type": "markdown",
   "metadata": {},
   "source": [
    "# Creating the model\n",
    "\n",
    "This example will be based on [this kaggle](https://www.kaggle.com/mburakergenc/predictions-with-xgboost-and-linear-regression) about making predictions with XGboost and Linear Regression.\n",
    "\n",
    "Since this document will be focused on the deploying side of the ML process. We will not cover the development of the model in-depth and make use of the pre-trained model below.\n",
    "\n",
    "After running this cell you should see a comparision between the `sklearn` model and the `xgboost` model regarding the accuracy score and the RMSE (Root Mean Square Error)\n"
   ]
  },
  {
   "cell_type": "markdown",
   "metadata": {},
   "source": [
    "Let us first install the python packages we will need for our model"
   ]
  },
  {
   "cell_type": "code",
   "execution_count": null,
   "metadata": {
    "scrolled": true
   },
   "outputs": [],
   "source": [
    "!pip install sklearn\n",
    "!pip install xgboost\n",
    "!pip install numpy\n",
    "!pip install pandas\n",
    "!pip install joblib"
   ]
  },
  {
   "cell_type": "code",
   "execution_count": null,
   "metadata": {},
   "outputs": [],
   "source": [
    "import numpy as np\n",
    "import pandas as pd\n",
    "import xgboost\n",
    "import math\n",
    "from scipy.stats import pearsonr\n",
    "from sklearn.linear_model import LinearRegression\n",
    "from sklearn import tree, linear_model\n",
    "from sklearn.model_selection import train_test_split\n",
    "from sklearn.metrics import explained_variance_score\n",
    "import joblib\n",
    "\n",
    "# Read the data into a data frame\n",
    "data = pd.read_csv('kc_house_data.csv')\n",
    "\n",
    "# Train a simple linear regression model\n",
    "regr = linear_model.LinearRegression()\n",
    "new_data = data[['sqft_living','grade', 'sqft_above', 'sqft_living15','bathrooms','view','sqft_basement','lat','waterfront','yr_built','bedrooms']]\n",
    "\n",
    "X = new_data.values\n",
    "y = data.price.values\n",
    "\n",
    "# Create train test sets\n",
    "X_train, X_test, y_train, y_test = train_test_split(X, y ,test_size=0.2)\n",
    "# Train the model\n",
    "regr.fit(X_train, y_train)\n",
    "\n",
    "# Check how the sklearn model scores on accuracy on our test set\n",
    "sklearn_score = regr.score(X_test,y_test)\n",
    "# Print the score of the sklearn model (Not great)\n",
    "print(f'Score of the sklearn model: {sklearn_score}')\n",
    "\n",
    "# Calculate the Root Mean Squared Error\n",
    "print(\"RMSE of the sklearn model: %.2f\"\n",
    "      % math.sqrt(np.mean((regr.predict(X_test) - y_test) ** 2)))\n",
    "\n",
    "# Let's try XGboost algorithm to see if we can get better results\n",
    "xgb = xgboost.XGBRegressor(n_estimators=100, learning_rate=0.08, gamma=0, subsample=0.75,\n",
    "                           colsample_bytree=1, max_depth=7)\n",
    "\n",
    "traindf, testdf = train_test_split(X_train, test_size = 0.2)\n",
    "# Train the model\n",
    "xgb.fit(X_train,y_train)\n",
    "\n",
    "# Make predictions using the xgboost model\n",
    "predictions = xgb.predict(X_test)\n",
    "\n",
    "\n",
    "# Check how the xgboost model scores on accuracy on our test set\n",
    "xgboost_score = explained_variance_score(predictions,y_test)\n",
    "\n",
    "print(f'Score of the xgboost model {xgboost_score}')\n",
    "\n",
    "# Calculate the Root Mean Squared Error\n",
    "print(\"RMSE of the xgboost model: %.2f\"\n",
    "      % math.sqrt(np.mean((predictions - y_test) ** 2)))\n",
    "\n",
    "\n",
    "#save model\n",
    "joblib.dump(xgb, 'xgboost-deployment/xgboost_model.joblib') \n",
    "print('XGBoost model built and saved successfully!')\n"
   ]
  },
  {
   "cell_type": "markdown",
   "metadata": {},
   "source": [
    "## Creating the XGboost deployment\n",
    "Now that we have our model saved it is time to create a deployment in UbiOps that will make use of it.\n",
    "\n",
    "In the cell below you can view the deployment.py which will take data about the house we wish to predict the price of. As you can see in the initialization step we load the model we created earlier, then in the request method we make use of it to make a prediction. Input to this model is:\n",
    "\n",
    "* data: a csv file with the house data to predict its price.\n"
   ]
  },
  {
   "cell_type": "code",
   "execution_count": null,
   "metadata": {},
   "outputs": [],
   "source": [
    "%load xgboost-deployment/deployment.py"
   ]
  },
  {
   "cell_type": "markdown",
   "metadata": {},
   "source": [
    "\n",
    "## Deploying to UbiOps¶\n",
    "\n",
    "Now we have all the pieces we need to create our deployment on UbiOps. In the cell below a deployment is being created, then a version of the deployment is created and the deployment code is zipped and uploaded to that version.\n",
    "\n"
   ]
  },
  {
   "cell_type": "code",
   "execution_count": null,
   "metadata": {},
   "outputs": [],
   "source": [
    "# Create the deployment\n",
    "deployment_template = ubiops.DeploymentCreate(\n",
    "    name=DEPLOYMENT_NAME,\n",
    "    description='XGBoost deployment',\n",
    "    input_type='structured',\n",
    "    output_type='structured',\n",
    "    input_fields=[\n",
    "        ubiops.DeploymentInputFieldCreate(\n",
    "            name='data',\n",
    "            data_type='blob',\n",
    "        ),\n",
    "    ],\n",
    "    output_fields=[\n",
    "        ubiops.DeploymentOutputFieldCreate(\n",
    "            name='prediction',\n",
    "            data_type='blob'\n",
    "        ),\n",
    "    ],\n",
    "    labels={'demo': 'xgboost'}\n",
    ")\n",
    "\n",
    "api.deployments_create(\n",
    "    project_name=PROJECT_NAME,\n",
    "    data=deployment_template\n",
    ")\n",
    "\n",
    "# Create the version\n",
    "version_template = ubiops.DeploymentVersionCreate(\n",
    "    version=DEPLOYMENT_VERSION,\n",
    "    language='python3.6',\n",
    "    memory_allocation=512,\n",
    "    minimum_instances=0,\n",
    "    maximum_instances=1,\n",
    "    maximum_idle_time=1800 # = 30 minutes\n",
    ")\n",
    "\n",
    "api.deployment_versions_create(\n",
    "    project_name=PROJECT_NAME,\n",
    "    deployment_name=DEPLOYMENT_NAME,\n",
    "    data=version_template\n",
    ")\n",
    "\n",
    "# Zip the deployment package\n",
    "shutil.make_archive('xgboost-deployment', 'zip', '.', 'xgboost-deployment')\n",
    "\n",
    "# Upload the zipped deployment package\n",
    "file_upload_result =api.revisions_file_upload(\n",
    "    project_name=PROJECT_NAME,\n",
    "    deployment_name=DEPLOYMENT_NAME,\n",
    "    version=DEPLOYMENT_VERSION,\n",
    "    file='xgboost-deployment.zip'\n",
    ")"
   ]
  },
  {
   "cell_type": "markdown",
   "metadata": {},
   "source": [
    "## Making a request and exploring further\n",
    "You can go ahead to the Web App and take a look in the user interface at what you have just built. If you want you can create a request to the XGboost deployment using the \"dummy_data_to_predict.csv\". The dummy data is a small test subset from the original data. \n",
    "\n",
    "So there we have it! We have created a deployment and using the XGboost  library. You can use this notebook to base your own deployments on. Just adapt the code in the deployment packages and alter the input and output fields as you wish and you should be good to go. \n",
    "\n",
    "For any questions, feel free to reach out to us via the customer service portal: https://ubiops.atlassian.net/servicedesk/customer/portals"
   ]
  }
 ],
 "metadata": {
  "kernelspec": {
   "display_name": "Python 3",
   "language": "python",
   "name": "python3"
  },
  "language_info": {
   "codemirror_mode": {
    "name": "ipython",
    "version": 3
   },
   "file_extension": ".py",
   "mimetype": "text/x-python",
   "name": "python",
   "nbconvert_exporter": "python",
   "pygments_lexer": "ipython3",
   "version": "3.6.9"
  }
 },
 "nbformat": 4,
 "nbformat_minor": 4
}