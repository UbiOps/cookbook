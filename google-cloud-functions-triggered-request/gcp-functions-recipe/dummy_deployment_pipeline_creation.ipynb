{
 "cells": [
  {
   "cell_type": "markdown",
   "metadata": {},
   "source": [
    "# Dummy deployment and/or pipeline creation\n",
    "**Note**: This notebook runs on Python 3.6.\n",
    "\n",
    "This notebook will cover the steps required to create a dummy deployment and/or pipeline. The first part of this notebook will tackle the deployment creation process; afterwards, in the final part, a dummy pipeline will be created, making use of the deployment created in the previous step. \n",
    "\n",
    "We recommend to run the cells step by step, as some cells can take a few minutes to finish. You can run everything in one go as well and it will work, just allow a few minutes for building the deployments.\n",
    "\n",
    "## Establishing a connection with your UbiOps environment\n",
    "Add your API token and then provide a project name. Afterwards we initialize the client library. This way we can deploy the deployment and/or pipeline to your environment."
   ]
  },
  {
   "cell_type": "code",
   "execution_count": null,
   "metadata": {},
   "outputs": [],
   "source": [
    "API_TOKEN = '<INSERT API_TOKEN WITH PROJECT EDITOR RIGHTS>' # Make sure this is in the format \"Token token-code\"\n",
    "PROJECT_NAME= '<INSERT PROJECT NAME IN YOUR ACCOUNT>'\n",
    "\n",
    "# Import all necessary libraries\n",
    "import shutil\n",
    "import ubiops\n",
    "\n",
    "client = ubiops.ApiClient(ubiops.Configuration(api_key={'Authorization': API_TOKEN}, \n",
    "                                               host='https://api.ubiops.com/v2.1'))\n",
    "api = ubiops.CoreApi(client)"
   ]
  },
  {
   "cell_type": "markdown",
   "metadata": {},
   "source": [
    "## Create the dummy deployment\n",
    "\n",
    "This step will create and deploy a deployment to your UbiOps environment. The deployment's functionality will consist of just passing the input as an output (hence it being called a dummy deployment).'\n",
    "\n",
    "First, change the *DEPLOYMENT_NAME* and *DEPLOYMENT_VERSION* variables in the next cell to a deployment and version name of your choice. Then, simply run the following cell to create the dummy deployment."
   ]
  },
  {
   "cell_type": "code",
   "execution_count": null,
   "metadata": {},
   "outputs": [],
   "source": [
    "DEPLOYMENT_NAME='example-deployment'\n",
    "DEPLOYMENT_VERSION='v1'\n",
    "\n",
    "deployment_template = ubiops.DeploymentCreate(\n",
    "    name=DEPLOYMENT_NAME,\n",
    "    description='Example deployment',\n",
    "    input_type='structured',\n",
    "    output_type='structured',\n",
    "    input_fields=[\n",
    "        ubiops.DeploymentInputFieldCreate(\n",
    "            name='input',\n",
    "            data_type='string',\n",
    "        )\n",
    "    ],\n",
    "    output_fields=[\n",
    "        ubiops.DeploymentOutputFieldCreate(\n",
    "            name='output',\n",
    "            data_type='string'\n",
    "        )\n",
    "    ],\n",
    "    labels={'demo': 'gcp-functions-recipe'}\n",
    ")\n",
    "\n",
    "api.deployments_create(\n",
    "    project_name=PROJECT_NAME,\n",
    "    data=deployment_template\n",
    ")\n",
    "\n",
    "# Create the version\n",
    "version_template = ubiops.VersionCreate(\n",
    "    version=DEPLOYMENT_VERSION,\n",
    "    language='python3.6',\n",
    "    memory_allocation=512,\n",
    "    minimum_instances=0,\n",
    "    maximum_instances=1,\n",
    "    maximum_idle_time=1800 # = 30 minutes\n",
    ")\n",
    "\n",
    "api.versions_create(\n",
    "    project_name=PROJECT_NAME,\n",
    "    deployment_name=DEPLOYMENT_NAME,\n",
    "    data=version_template\n",
    ")\n",
    "\n",
    "# Zip the deployment package\n",
    "shutil.make_archive('dummy_package', 'zip', '.', 'dummy_package')\n",
    "\n",
    "# Upload the zipped deployment package\n",
    "file_upload_result =api.revisions_file_upload(\n",
    "    project_name=PROJECT_NAME,\n",
    "    deployment_name=DEPLOYMENT_NAME,\n",
    "    version=DEPLOYMENT_VERSION,\n",
    "    file='dummy_package.zip'\n",
    ")"
   ]
  },
  {
   "cell_type": "markdown",
   "metadata": {},
   "source": [
    "# Deployment created and deployed!\n",
    "\n",
    "Now that the deployment has been successfully created and deployed, we can move to the next step. \n",
    "\n",
    "The next step will continuously check and monitor the UbiOps environment in order to make sure that the created deployment has passed the building stage."
   ]
  },
  {
   "cell_type": "code",
   "execution_count": null,
   "metadata": {},
   "outputs": [],
   "source": [
    "from time import sleep\n",
    "\n",
    "\n",
    "status1 = 'building'\n",
    "while status1 != 'available' and 'unavailable' not in status1:    \n",
    "    version_status1 = api.versions_get(       \n",
    "        project_name=PROJECT_NAME,        \n",
    "        deployment_name=DEPLOYMENT_NAME,        \n",
    "        version=DEPLOYMENT_VERSION    \n",
    "    )    \n",
    "    status1 = version_status1.status\n",
    "    sleep(1)\n",
    "    \n",
    "print(status1)"
   ]
  },
  {
   "cell_type": "markdown",
   "metadata": {},
   "source": [
    "# Deployment passed the building stage\n",
    "\n",
    "If the output of the previous cell is \"available\", the deployment has been successfully created, deployed and build. If you need to also create a dummy pipeline on top of the deployment, you can continue to the next step.\n",
    "\n",
    "In the next step, we will create a simple pipeline which uses the deployment that we have created in the previous cells of this notebook. This pipeline will consist of only one deployment (the one previously created) and it will not have any real functionality.\n",
    "\n",
    "First, give the dummy pipeline a name of your choice by changing the *PIPELINE_NAME* variable in the next cell. Then, simply run the cell to create the pipeline. "
   ]
  },
  {
   "cell_type": "code",
   "execution_count": null,
   "metadata": {},
   "outputs": [],
   "source": [
    "PIPELINE_NAME = \"example-pipeline\"\n",
    "\n",
    "pipeline_template = ubiops.PipelineCreate(\n",
    "    name=PIPELINE_NAME,\n",
    "    description=\"An example pipeline\",\n",
    "    input_type='structured',\n",
    "    input_fields=[\n",
    "        ubiops.DeploymentInputFieldCreate(\n",
    "            name='input',\n",
    "            data_type='string',\n",
    "        )\n",
    "    ],\n",
    "    labels={'demo': 'gcp-functions-recipe'}\n",
    ")\n",
    "\n",
    "api.pipelines_create(\n",
    "    project_name=PROJECT_NAME,\n",
    "    data=pipeline_template\n",
    ")\n",
    "\n",
    "# Adding the example deployment\n",
    "object_template = ubiops.PipelineObjectCreate(\n",
    "    name=DEPLOYMENT_NAME,\n",
    "    reference_name=DEPLOYMENT_NAME,\n",
    "    version=DEPLOYMENT_VERSION\n",
    ")\n",
    "api.pipeline_objects_create(project_name=PROJECT_NAME, pipeline_name=PIPELINE_NAME, data=object_template)\n",
    "\n",
    "# Connecting pipeline start --> example deployment\n",
    "attachment_template = ubiops.AttachmentsCreate(\n",
    "    destination_name=DEPLOYMENT_NAME,\n",
    "    sources=[\n",
    "        ubiops.AttachmentSourcesCreate(\n",
    "            source_name='pipeline_start',\n",
    "            mapping=[ubiops.AttachmentFieldsCreate(source_field_name='input', destination_field_name='input')]\n",
    "        )\n",
    "    ]\n",
    ")\n",
    "\n",
    "api.pipeline_object_attachments_create(\n",
    "    project_name=PROJECT_NAME, \n",
    "    pipeline_name=PIPELINE_NAME, \n",
    "    data=attachment_template\n",
    ")"
   ]
  },
  {
   "cell_type": "markdown",
   "metadata": {},
   "source": [
    "**IMPORTANT**: If you get an error like: \"error\":\"Version is not available: The version is currently in the building stage\"\n",
    "Your deployment is not yet available and still building. \n",
    "Check in the UI if your deployment is ready and then rerun the block above.\n",
    "\n",
    "# Pipeline successfully created!"
   ]
  },
  {
   "cell_type": "code",
   "execution_count": null,
   "metadata": {},
   "outputs": [],
   "source": []
  }
 ],
 "metadata": {
  "kernelspec": {
   "display_name": "Python 3",
   "language": "python",
   "name": "python3"
  },
  "language_info": {
   "codemirror_mode": {
    "name": "ipython",
    "version": 3
   },
   "file_extension": ".py",
   "mimetype": "text/x-python",
   "name": "python",
   "nbconvert_exporter": "python",
   "pygments_lexer": "ipython3",
   "version": "3.6.9"
  },
  "pycharm": {
   "stem_cell": {
    "cell_type": "raw",
    "source": [],
    "metadata": {
     "collapsed": false
    }
   }
  }
 },
 "nbformat": 4,
 "nbformat_minor": 4
}